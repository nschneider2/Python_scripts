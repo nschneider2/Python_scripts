{
 "cells": [
  {
   "cell_type": "code",
   "execution_count": 1,
   "id": "9cf98e52",
   "metadata": {},
   "outputs": [],
   "source": [
    "import pandas as pd\n",
    "import numpy as np"
   ]
  },
  {
   "cell_type": "code",
   "execution_count": 3,
   "id": "7ccea855",
   "metadata": {},
   "outputs": [],
   "source": [
    "df0 = pd.read_csv(\"data_clean_01.csv\")"
   ]
  },
  {
   "cell_type": "code",
   "execution_count": 2,
   "id": "8b777d6a",
   "metadata": {},
   "outputs": [],
   "source": [
    "# Quedarse con una columna con el nombre completo y otra con el mail"
   ]
  },
  {
   "cell_type": "code",
   "execution_count": 8,
   "id": "b5b86df4",
   "metadata": {},
   "outputs": [],
   "source": [
    "df = pd.DataFrame()\n",
    "\n",
    "for n in range(0,len(df0)):\n",
    "    \n",
    "    ## email\n",
    "    e_s = df0[\"full\"][n].index(\"<\") + 1\n",
    "    e_e = df0[\"full\"][n].index(\">\")\n",
    "    df.at[n,'email'] = df0[\"full\"][n][e_s:e_e]\n",
    "    \n",
    "    ## name\n",
    "    n_s = 0\n",
    "    n_e = df0[\"full\"][n].index(\"<\")\n",
    "    df.at[n,'name'] = df0[\"full\"][n][n_s:n_e]\n",
    "    \n",
    "    ### else info\n",
    "    df.at[n,'Team'] = df0['Team'][n]\n",
    "    df.at[n,'check'] = df0['check'][n]"
   ]
  },
  {
   "cell_type": "code",
   "execution_count": 11,
   "id": "c893cd6e",
   "metadata": {},
   "outputs": [
    {
     "data": {
      "text/html": [
       "<div>\n",
       "<style scoped>\n",
       "    .dataframe tbody tr th:only-of-type {\n",
       "        vertical-align: middle;\n",
       "    }\n",
       "\n",
       "    .dataframe tbody tr th {\n",
       "        vertical-align: top;\n",
       "    }\n",
       "\n",
       "    .dataframe thead th {\n",
       "        text-align: right;\n",
       "    }\n",
       "</style>\n",
       "<table border=\"1\" class=\"dataframe\">\n",
       "  <thead>\n",
       "    <tr style=\"text-align: right;\">\n",
       "      <th></th>\n",
       "      <th>email</th>\n",
       "      <th>name</th>\n",
       "      <th>Team</th>\n",
       "      <th>check</th>\n",
       "    </tr>\n",
       "  </thead>\n",
       "  <tbody>\n",
       "    <tr>\n",
       "      <th>0</th>\n",
       "      <td>afreitas@ns.com</td>\n",
       "      <td>Ariane Freitas de Souza</td>\n",
       "      <td>Producto</td>\n",
       "      <td>False</td>\n",
       "    </tr>\n",
       "    <tr>\n",
       "      <th>1</th>\n",
       "      <td>alima@amelay.com</td>\n",
       "      <td>Amanda Lima</td>\n",
       "      <td>MKT</td>\n",
       "      <td>True</td>\n",
       "    </tr>\n",
       "    <tr>\n",
       "      <th>2</th>\n",
       "      <td>asanchez@ns.com</td>\n",
       "      <td>Agustin Sanchez</td>\n",
       "      <td>MKT</td>\n",
       "      <td>False</td>\n",
       "    </tr>\n",
       "    <tr>\n",
       "      <th>3</th>\n",
       "      <td>avago@ns.com</td>\n",
       "      <td>Ale Vago</td>\n",
       "      <td>BI</td>\n",
       "      <td>False</td>\n",
       "    </tr>\n",
       "    <tr>\n",
       "      <th>4</th>\n",
       "      <td>cdaponte@ns.me</td>\n",
       "      <td>Cristobal Toto Daponte</td>\n",
       "      <td>Producto</td>\n",
       "      <td>True</td>\n",
       "    </tr>\n",
       "  </tbody>\n",
       "</table>\n",
       "</div>"
      ],
      "text/plain": [
       "              email                      name      Team  check\n",
       "0   afreitas@ns.com  Ariane Freitas de Souza   Producto  False\n",
       "1  alima@amelay.com              Amanda Lima        MKT   True\n",
       "2   asanchez@ns.com          Agustin Sanchez        MKT  False\n",
       "3      avago@ns.com                 Ale Vago         BI  False\n",
       "4    cdaponte@ns.me   Cristobal Toto Daponte   Producto   True"
      ]
     },
     "execution_count": 11,
     "metadata": {},
     "output_type": "execute_result"
    }
   ],
   "source": [
    "# Punto A\n",
    "df.head()"
   ]
  },
  {
   "cell_type": "code",
   "execution_count": 16,
   "id": "49646fe7",
   "metadata": {},
   "outputs": [],
   "source": [
    "#punto B\n",
    "df_b0 = df[df[\"check\"]==True].reset_index(drop=True)"
   ]
  },
  {
   "cell_type": "code",
   "execution_count": 24,
   "id": "f8b143b4",
   "metadata": {},
   "outputs": [],
   "source": [
    "df_b = df_b0[[\"Team\",\"check\"]]"
   ]
  },
  {
   "cell_type": "code",
   "execution_count": 25,
   "id": "d4c73212",
   "metadata": {},
   "outputs": [
    {
     "data": {
      "text/html": [
       "<div>\n",
       "<style scoped>\n",
       "    .dataframe tbody tr th:only-of-type {\n",
       "        vertical-align: middle;\n",
       "    }\n",
       "\n",
       "    .dataframe tbody tr th {\n",
       "        vertical-align: top;\n",
       "    }\n",
       "\n",
       "    .dataframe thead th {\n",
       "        text-align: right;\n",
       "    }\n",
       "</style>\n",
       "<table border=\"1\" class=\"dataframe\">\n",
       "  <thead>\n",
       "    <tr style=\"text-align: right;\">\n",
       "      <th></th>\n",
       "      <th>Team</th>\n",
       "      <th>check</th>\n",
       "    </tr>\n",
       "  </thead>\n",
       "  <tbody>\n",
       "    <tr>\n",
       "      <th>0</th>\n",
       "      <td>MKT</td>\n",
       "      <td>True</td>\n",
       "    </tr>\n",
       "    <tr>\n",
       "      <th>1</th>\n",
       "      <td>Producto</td>\n",
       "      <td>True</td>\n",
       "    </tr>\n",
       "    <tr>\n",
       "      <th>2</th>\n",
       "      <td>Proyectos</td>\n",
       "      <td>True</td>\n",
       "    </tr>\n",
       "    <tr>\n",
       "      <th>3</th>\n",
       "      <td>MKT</td>\n",
       "      <td>True</td>\n",
       "    </tr>\n",
       "    <tr>\n",
       "      <th>4</th>\n",
       "      <td>Proyectos</td>\n",
       "      <td>True</td>\n",
       "    </tr>\n",
       "  </tbody>\n",
       "</table>\n",
       "</div>"
      ],
      "text/plain": [
       "        Team check\n",
       "0        MKT  True\n",
       "1   Producto  True\n",
       "2  Proyectos  True\n",
       "3        MKT  True\n",
       "4  Proyectos  True"
      ]
     },
     "execution_count": 25,
     "metadata": {},
     "output_type": "execute_result"
    }
   ],
   "source": [
    "df_b.head()"
   ]
  },
  {
   "cell_type": "code",
   "execution_count": 26,
   "id": "1bfcd79e",
   "metadata": {},
   "outputs": [],
   "source": [
    "df_b_g = df_b.groupby(\"Team\").count"
   ]
  },
  {
   "cell_type": "code",
   "execution_count": 27,
   "id": "0e2b4799",
   "metadata": {},
   "outputs": [
    {
     "data": {
      "text/html": [
       "<div>\n",
       "<style scoped>\n",
       "    .dataframe tbody tr th:only-of-type {\n",
       "        vertical-align: middle;\n",
       "    }\n",
       "\n",
       "    .dataframe tbody tr th {\n",
       "        vertical-align: top;\n",
       "    }\n",
       "\n",
       "    .dataframe thead th {\n",
       "        text-align: right;\n",
       "    }\n",
       "</style>\n",
       "<table border=\"1\" class=\"dataframe\">\n",
       "  <thead>\n",
       "    <tr style=\"text-align: right;\">\n",
       "      <th></th>\n",
       "      <th>check</th>\n",
       "    </tr>\n",
       "    <tr>\n",
       "      <th>Team</th>\n",
       "      <th></th>\n",
       "    </tr>\n",
       "  </thead>\n",
       "  <tbody>\n",
       "    <tr>\n",
       "      <th>All</th>\n",
       "      <td>1</td>\n",
       "    </tr>\n",
       "    <tr>\n",
       "      <th>BI</th>\n",
       "      <td>6</td>\n",
       "    </tr>\n",
       "    <tr>\n",
       "      <th>MKT</th>\n",
       "      <td>5</td>\n",
       "    </tr>\n",
       "    <tr>\n",
       "      <th>Producto</th>\n",
       "      <td>4</td>\n",
       "    </tr>\n",
       "    <tr>\n",
       "      <th>Proyectos</th>\n",
       "      <td>4</td>\n",
       "    </tr>\n",
       "  </tbody>\n",
       "</table>\n",
       "</div>"
      ],
      "text/plain": [
       "           check\n",
       "Team            \n",
       "All            1\n",
       "BI             6\n",
       "MKT            5\n",
       "Producto       4\n",
       "Proyectos      4"
      ]
     },
     "execution_count": 27,
     "metadata": {},
     "output_type": "execute_result"
    }
   ],
   "source": [
    "df_b_g()"
   ]
  }
 ],
 "metadata": {
  "kernelspec": {
   "display_name": "Python 3 (ipykernel)",
   "language": "python",
   "name": "python3"
  },
  "language_info": {
   "codemirror_mode": {
    "name": "ipython",
    "version": 3
   },
   "file_extension": ".py",
   "mimetype": "text/x-python",
   "name": "python",
   "nbconvert_exporter": "python",
   "pygments_lexer": "ipython3",
   "version": "3.9.13"
  }
 },
 "nbformat": 4,
 "nbformat_minor": 5
}
