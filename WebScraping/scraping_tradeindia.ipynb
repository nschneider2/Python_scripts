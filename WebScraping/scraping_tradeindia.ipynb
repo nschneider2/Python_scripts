{
 "cells": [
  {
   "cell_type": "code",
   "execution_count": 1,
   "id": "42b4cb25",
   "metadata": {},
   "outputs": [],
   "source": [
    "import requests\n",
    "import csv\n",
    "import re\n",
    "from bs4 import BeautifulSoup\n",
    "import pandas as pd\n",
    "import json\n",
    "from selenium import webdriver\n",
    "from gspread_dataframe import set_with_dataframe"
   ]
  },
  {
   "cell_type": "code",
   "execution_count": 2,
   "id": "3cb9f8ed",
   "metadata": {},
   "outputs": [],
   "source": [
    "url = 'https://www.tradeindia.com/Seller/'\n",
    "categories=pd.DataFrame()\n",
    "x=0\n",
    "\n",
    "res = requests.get(url)\n",
    "soup = BeautifulSoup(res.text,\"lxml\")\n",
    "category_html = soup.find_all(\"div\",class_=\"bx--col-sm-4 bx--col-md-4 bx--col-lg-4 catBoxMain\")\n",
    "cat_html = soup.find_all('a', class_=\"cat-name d-block pt-10\")\n",
    "\n",
    "top = len(soup.find_all('a', class_=\"cat-name d-block pt-10\"))"
   ]
  },
  {
   "cell_type": "code",
   "execution_count": 3,
   "id": "ac37f5aa",
   "metadata": {},
   "outputs": [
    {
     "name": "stdout",
     "output_type": "stream",
     "text": [
      "Wall time: 72.4 ms\n"
     ]
    }
   ],
   "source": [
    "%%time\n",
    "## take all categories availables\n",
    "df0 = pd.DataFrame()\n",
    "\n",
    "for n in range(0,top):\n",
    "    \n",
    "    df0.loc[x,'category'] = getattr(cat_html[n],'text').replace('\\n','')\n",
    "    \n",
    "    ### clean category name\n",
    "    df0.category = df0.category.str.replace(' & ','-')\n",
    "    df0.category = df0.category.str.replace(',','-')\n",
    "    df0.category = df0.category.str.replace(' ','-')\n",
    "    df0.category = df0.category.str.replace('\\n','')\n",
    "    \n",
    "    x+=1\n",
    "    "
   ]
  },
  {
   "cell_type": "code",
   "execution_count": 4,
   "id": "2943fe7d",
   "metadata": {},
   "outputs": [],
   "source": [
    "df0['url'] = 'https://www.tradeindia.com/Seller/'+df0.category+'/'"
   ]
  },
  {
   "cell_type": "code",
   "execution_count": 9,
   "id": "ba2550c9",
   "metadata": {},
   "outputs": [
    {
     "name": "stdout",
     "output_type": "stream",
     "text": [
      "Wall time: 1min 39s\n"
     ]
    }
   ],
   "source": [
    "%%time\n",
    "\n",
    "df = pd.DataFrame()\n",
    "x = 0 \n",
    "for n in range(0,len(df0)):\n",
    "\n",
    "    res2 = requests.get(df0.url[n])\n",
    "\n",
    "    soup2 = BeautifulSoup(res2.text,\"lxml\")\n",
    "\n",
    "    subcat2 = soup2.find_all('a', class_=\"cat-name d-block pt-10\")\n",
    "\n",
    "    for i in range(0,len(subcat2)):\n",
    "        \n",
    "        df.loc[x,'url'] = df0.url[n]\n",
    "        \n",
    "        df.loc[x,'category'] = df0.category[n]\n",
    "        \n",
    "        df.loc[x,'subcat'] = getattr(subcat2[i],'text')\n",
    "        \n",
    "        df.subcat = df.subcat.str.replace(' & ','-')\n",
    "        df.subcat = df.subcat.str.replace(' ','-')\n",
    "        \n",
    "        \n",
    "        x+=1"
   ]
  },
  {
   "cell_type": "code",
   "execution_count": 12,
   "id": "5549fc64",
   "metadata": {},
   "outputs": [],
   "source": [
    "df['url_final'] = df.url +df.subcat+'/'"
   ]
  },
  {
   "cell_type": "code",
   "execution_count": 18,
   "id": "3b8751a4",
   "metadata": {},
   "outputs": [
    {
     "data": {
      "text/plain": [
       "['https://www.tradeindia.com/Seller/Agriculture/Rice/']"
      ]
     },
     "execution_count": 18,
     "metadata": {},
     "output_type": "execute_result"
    }
   ],
   "source": [
    "df.url_final.head(1).to_list()\n",
    "### in this example i only take the first final url (rice)"
   ]
  },
  {
   "cell_type": "code",
   "execution_count": 24,
   "id": "709922d6",
   "metadata": {
    "scrolled": true
   },
   "outputs": [
    {
     "name": "stdout",
     "output_type": "stream",
     "text": [
      "Wall time: 2.67 s\n"
     ]
    }
   ],
   "source": [
    "%%time\n",
    "\n",
    "## take all products in this subcategory\n",
    "product = pd.DataFrame()\n",
    "row = 0\n",
    "\n",
    "for n in df.url_final.head(1).to_list():\n",
    "    \n",
    "    res_sub = requests.get(n)\n",
    "    \n",
    "    soup_sub = BeautifulSoup(res_sub.text,\"lxml\")\n",
    "    \n",
    "    base = soup_sub.find_all(\"a\",class_=\"dark-link\")\n",
    "\n",
    "##----\n",
    "    for i in range(0,len(base)):\n",
    "        \n",
    "        product.loc[row,'url'] = n\n",
    "        \n",
    "        #print(n)\n",
    "        \n",
    "        product.loc[row,'name'] = getattr(base[i],'text')\n",
    "        \n",
    "        product.name = product.name.str.replace(' & ','-')\n",
    "        product.name = product.name.str.replace(' ','-')\n",
    "        \n",
    "        product.name = product.name.str.lower()\n",
    "        \n",
    "        product['final_url'] = 'https://www.tradeindia.com/manufacturers/'+product.name+'.html'\n",
    "        \n",
    "        product = product.reset_index(drop=True)\n",
    "        \n",
    "        #print(getattr(base[i],'text'))\n",
    "        \n",
    "        row+=1"
   ]
  },
  {
   "cell_type": "code",
   "execution_count": 99,
   "id": "83cf0071",
   "metadata": {},
   "outputs": [
    {
     "name": "stdout",
     "output_type": "stream",
     "text": [
      "0\n",
      "1\n",
      "2\n",
      "3\n",
      "4\n",
      "5\n",
      "6\n",
      "7\n",
      "8\n",
      "9\n",
      "10\n",
      "11\n",
      "12\n",
      "13\n",
      "14\n",
      "15\n",
      "16\n",
      "17\n",
      "18\n",
      "19\n",
      "20\n",
      "21\n",
      "22\n",
      "23\n",
      "24\n",
      "25\n",
      "26\n",
      "27\n",
      "28\n",
      "29\n",
      "30\n",
      "31\n",
      "32\n",
      "33\n",
      "34\n",
      "35\n",
      "36\n",
      "37\n",
      "38\n",
      "39\n",
      "40\n",
      "41\n",
      "42\n",
      "43\n",
      "44\n",
      "45\n",
      "46\n",
      "47\n",
      "48\n",
      "49\n",
      "50\n",
      "51\n",
      "52\n",
      "53\n",
      "54\n",
      "55\n",
      "56\n",
      "57\n",
      "58\n",
      "59\n",
      "60\n",
      "61\n",
      "62\n",
      "63\n",
      "64\n",
      "65\n",
      "66\n",
      "67\n",
      "68\n",
      "69\n",
      "70\n",
      "71\n",
      "72\n",
      "73\n",
      "74\n",
      "75\n",
      "76\n",
      "77\n",
      "78\n",
      "79\n",
      "80\n",
      "81\n",
      "82\n"
     ]
    }
   ],
   "source": [
    "pagination = pd.DataFrame()\n",
    "row = 0\n",
    "\n",
    "for n in range(0,len(product)):\n",
    "    res_pag = requests.get(product.final_url[1],allow_redirects=False)\n",
    "    soup_pag = BeautifulSoup(res_pag.text,\"lxml\")\n",
    "    base2_pag = soup_pag.find_all(\"li\",class_=\"a-normal\")\n",
    "    try:\n",
    "        pagination.loc[row,'url'] = (product.final_url[n])\n",
    "        #print(product.final_url[n])\n",
    "        pagination.loc[row,'pag'] = getattr(base2_pag[1],'text')\n",
    "        #print(getattr(base2_pag[1],'text'))\n",
    "    except:\n",
    "        pagination.loc[row,'url'] = (product.final_url[n])\n",
    "        #print(product.final_url[n])\n",
    "        pagination.loc[row,'pag'] = 1        \n",
    "    \n",
    "    print(n)\n",
    "    row+=1"
   ]
  },
  {
   "cell_type": "code",
   "execution_count": 95,
   "id": "b8ebba40",
   "metadata": {},
   "outputs": [
    {
     "data": {
      "text/plain": [
       "2"
      ]
     },
     "execution_count": 95,
     "metadata": {},
     "output_type": "execute_result"
    }
   ],
   "source": []
  },
  {
   "cell_type": "code",
   "execution_count": 98,
   "id": "94dc5681",
   "metadata": {},
   "outputs": [
    {
     "data": {
      "text/plain": [
       "'3'"
      ]
     },
     "execution_count": 98,
     "metadata": {},
     "output_type": "execute_result"
    }
   ],
   "source": [
    "getattr(base2_pag[1],'text')"
   ]
  },
  {
   "cell_type": "code",
   "execution_count": null,
   "id": "e69e06b3",
   "metadata": {},
   "outputs": [],
   "source": [
    "#product2.url[429]\n",
    "product2 = total_pages\n",
    "top_total = len(total_pages)\n",
    "total_pages.pag = total_pages.pag.fillna(1)\n",
    "total_pages"
   ]
  },
  {
   "cell_type": "code",
   "execution_count": null,
   "id": "8e1a34ef",
   "metadata": {},
   "outputs": [],
   "source": [
    " for x in range(0,top_pages):\n",
    "        top_pagination = product2.pag[x]\n",
    "        for i in range(1,top_pagination):\n",
    "            res_final = requests.get(total_pages.url[x]+'?page='+[i],allow_redirects=False)\n",
    "            print(total_pages.url[x]+'?page='+[i])\n",
    "            soup_final = BeautifulSoup(res_final.text,\"lxml\")\n",
    "            base_final = soup_final.find_all(\"div\", class_=\"product-specification\")  \n",
    "        \n",
    "        \n",
    "        "
   ]
  }
 ],
 "metadata": {
  "kernelspec": {
   "display_name": "Python 3 (ipykernel)",
   "language": "python",
   "name": "python3"
  },
  "language_info": {
   "codemirror_mode": {
    "name": "ipython",
    "version": 3
   },
   "file_extension": ".py",
   "mimetype": "text/x-python",
   "name": "python",
   "nbconvert_exporter": "python",
   "pygments_lexer": "ipython3",
   "version": "3.9.13"
  }
 },
 "nbformat": 4,
 "nbformat_minor": 5
}
