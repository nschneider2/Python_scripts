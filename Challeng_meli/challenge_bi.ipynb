{
 "cells": [
  {
   "cell_type": "code",
   "execution_count": 1,
   "id": "27db6972",
   "metadata": {},
   "outputs": [],
   "source": [
    "import pandas as pd\n",
    "import numpy as np\n",
    "import os\n",
    "\n",
    "from datetime import timedelta\n",
    "from gspread_dataframe import set_with_dataframe\n",
    "\n",
    "import time\n",
    "import warnings\n",
    "warnings.filterwarnings('ignore')\n",
    "from dateutil.relativedelta import relativedelta\n",
    "from pandas.tseries.offsets import MonthEnd"
   ]
  },
  {
   "cell_type": "markdown",
   "id": "590b4f8e",
   "metadata": {},
   "source": [
    "###### Import csv's"
   ]
  },
  {
   "cell_type": "code",
   "execution_count": 2,
   "id": "cda51c3f",
   "metadata": {
    "scrolled": true
   },
   "outputs": [
    {
     "name": "stdout",
     "output_type": "stream",
     "text": [
      "Wall time: 1.88 s\n"
     ]
    }
   ],
   "source": [
    "%%time\n",
    "\n",
    "df_atributes0 = pd.read_csv('attributes.csv', delimiter=';')\n",
    "\n",
    "df_city0 = pd.read_csv('city.csv', delimiter=';')\n",
    "\n",
    "df_country0 = pd.read_csv('country.csv', delimiter=';')\n",
    "\n",
    "df_location0 = pd.read_csv('location.csv', delimiter=';')\n",
    "\n",
    "df_neighborhood0 = pd.read_csv('neighborhood.csv', delimiter=';')\n",
    "\n",
    "df_results0 = pd.read_csv('results.csv', delimiter=';')\n",
    "\n",
    "df_seller_contact0 = pd.read_csv('seller_contact.csv', delimiter=';')\n",
    "\n",
    "df_state_u0 = pd.read_csv('state_u0.csv', delimiter=';')"
   ]
  },
  {
   "cell_type": "code",
   "execution_count": null,
   "id": "2370cb1e",
   "metadata": {
    "scrolled": true
   },
   "outputs": [],
   "source": [
    "## Limpieza details products\n",
    "df_atributes = df_atributes0[['__KEY_results','name_u6','value_name']]\n",
    "\n",
    "df_km = df_atributes[df_atributes.name_u6=='Kilómetros'].rename(columns={'value_name':'Kilómetros'}).drop(['name_u6'],axis=1).reset_index(drop=True)\n",
    "df_Marca = df_atributes[df_atributes.name_u6=='Marca'].rename(columns={'value_name':'Marca'}).drop(['name_u6'],axis=1).reset_index(drop=True)\n",
    "df_Modelo = df_atributes[df_atributes.name_u6=='Modelo'].rename(columns={'value_name':'Modelo'}).drop(['name_u6'],axis=1).reset_index(drop=True)\n",
    "df_Transmision = df_atributes[df_atributes.name_u6=='Transmisión'].rename(columns={'value_name':'Transmisión'}).drop(['name_u6'],axis=1).reset_index(drop=True)\n",
    "df_year = df_atributes[df_atributes.name_u6=='Año'].rename(columns={'value_name':'Año'}).drop(['name_u6'],axis=1).reset_index(drop=True)\n",
    "df_Version = df_atributes[df_atributes.name_u6=='Versión'].rename(columns={'value_name':'Versión'}).drop(['name_u6'],axis=1).reset_index(drop=True)\n",
    "\n",
    "## Final DF\n",
    "df_atributes1 = df_km.merge(df_Marca,on=['__KEY_results'],how='outer')\n",
    "df_atributes1 = df_atributes1.merge(df_Modelo,on=['__KEY_results'],how='outer')\n",
    "df_atributes1 = df_atributes1.merge(df_Transmision,on=['__KEY_results'],how='outer')\n",
    "df_atributes1 = df_atributes1.merge(df_year,on=['__KEY_results'],how='outer')\n",
    "df_atributes1 = df_atributes1.merge(df_Version,on=['__KEY_results'],how='outer')"
   ]
  },
  {
   "cell_type": "code",
   "execution_count": 13,
   "id": "4bf0661d",
   "metadata": {},
   "outputs": [
    {
     "data": {
      "text/plain": [
       "['Kilómetros', 'Marca', 'Modelo', 'Transmisión', 'Año', 'Versión']"
      ]
     },
     "execution_count": 13,
     "metadata": {},
     "output_type": "execute_result"
    }
   ],
   "source": [
    "df_atributes0.name_u6.drop_duplicates().to_list()"
   ]
  },
  {
   "cell_type": "code",
   "execution_count": null,
   "id": "8fbf344f",
   "metadata": {},
   "outputs": [],
   "source": [
    "for i in df_atributes0.name_u6.drop_duplicates().to_list():\n",
    "    "
   ]
  },
  {
   "cell_type": "markdown",
   "id": "26ec99a4",
   "metadata": {},
   "source": [
    "##### Armado de DF General"
   ]
  },
  {
   "cell_type": "code",
   "execution_count": null,
   "id": "a5976fbf",
   "metadata": {},
   "outputs": [],
   "source": [
    "df_product0 = df_results0.merge(df_atributes1,on=['__KEY_results'],how='left')\n",
    "\n",
    "df_product0 = df_product0.merge(df_seller_contact0,on=['__KEY_results'],how='left')\n",
    "\n",
    "df_product0 = df_product0.merge(df_location0,on=['__KEY_results'],how='left')"
   ]
  },
  {
   "cell_type": "code",
   "execution_count": null,
   "id": "5be67a46",
   "metadata": {},
   "outputs": [],
   "source": [
    "%%time\n",
    "clear1 = pd.DataFrame()\n",
    "\n",
    "for i in df_product0.id_u9.unique():\n",
    "    \n",
    "    clear0 = df_product0[df_product0.id_u9==i].reset_index(drop=True)\n",
    "    \n",
    "    filter_clear0 = [clear0.__KEY_results.min(),clear0.__KEY_results.max()]\n",
    "    \n",
    "    clear = clear0[clear0.__KEY_results.isin(filter_clear0)].reset_index(drop=True)\n",
    "    \n",
    "    for n in range(0,len(clear)):\n",
    "        try:\n",
    "            clear['prev_price'] = clear['price'][n-1]\n",
    "        except:\n",
    "            pass\n",
    "\n",
    "       \n",
    "    clear1 = clear1.append(clear).drop_duplicates().reset_index(drop=True)\n",
    "        "
   ]
  },
  {
   "cell_type": "code",
   "execution_count": null,
   "id": "ac465c97",
   "metadata": {},
   "outputs": [],
   "source": [
    "### Limpieza\n",
    "df_product = clear1[['__KEY_results', 'id_u9','accepts_mercadopago','available_quantity','condition',\n",
    "       'currency_id', 'listing_type_id','official_store_id', 'price','prev_price','permalink',\n",
    "      'site_id','sold_quantity', 'thumbnail', 'title','Kilómetros', 'Marca', 'Modelo', 'Transmisión', \n",
    "       'Año', 'Versión','area_code_u0','contact', 'email', 'phone','webpage', '__KEY_location', 'address_line_u0', \n",
    "       'subneighborhood', 'zip_code_u0']]"
   ]
  },
  {
   "cell_type": "code",
   "execution_count": null,
   "id": "05728335",
   "metadata": {
    "scrolled": true
   },
   "outputs": [],
   "source": [
    "%%time\n",
    "\n",
    "df_product1 = pd.DataFrame()\n",
    "\n",
    "for i in df_product.id_u9.unique():\n",
    "    \n",
    "    clear_last0 = df_product[df_product.id_u9==i].reset_index(drop=True)\n",
    "    \n",
    "    filter_last = [clear_last0.__KEY_results.max()]\n",
    "    \n",
    "    clear_last0 = clear_last0[clear_last0.__KEY_results.isin(filter_last)].reset_index(drop=True)\n",
    "    \n",
    "    \n",
    "    df_product1 = df_product1.append(clear_last0).drop_duplicates().reset_index(drop=True)"
   ]
  },
  {
   "cell_type": "code",
   "execution_count": null,
   "id": "c923e7f0",
   "metadata": {},
   "outputs": [],
   "source": [
    "df_product1.loc[df_product1['Kilómetros']=='0','kilometraje'] = '0 KM'\n",
    "\n",
    "df_product1.loc[(df_product1['Kilómetros']<='25000')&(df_product1['Kilómetros']>'0'),'kilometraje'] = '0 a 25.000 KM'\n",
    "\n",
    "df_product1.loc[(df_product1['Kilómetros']>'25000')&(df_product1['Kilómetros']<='50000'),'kilometraje'] = '25.000 a 50.000 KM'\n",
    "\n",
    "df_product1.loc[(df_product1['Kilómetros']>'50000')&(df_product1['Kilómetros']<='100000'),'kilometraje'] = '50.000 a 100.000 KM'\n",
    "\n",
    "df_product1.loc[(df_product1['Kilómetros']>'100000')&(df_product1['Kilómetros']<'500000'),'kilometraje'] = '100.000 a 500.000 KM'\n",
    "\n",
    "df_product1.loc[df_product1['Kilómetros']>'50000','kilometraje'] = 'Mas de 500.000 KM'\n",
    "\n",
    "df_product1.loc[df_product1['Kilómetros']!=df_product1['Kilómetros'],'kilometraje'] = 'Sin Datos'"
   ]
  },
  {
   "cell_type": "code",
   "execution_count": null,
   "id": "dc75dacb",
   "metadata": {},
   "outputs": [],
   "source": [
    "len(df_product1)"
   ]
  },
  {
   "cell_type": "code",
   "execution_count": null,
   "id": "e40fd78d",
   "metadata": {},
   "outputs": [],
   "source": [
    "df_product2 =df_product1.merge(df_country0,on='__KEY_location',how='left')\n",
    "\n",
    "len(df_product2)"
   ]
  },
  {
   "cell_type": "code",
   "execution_count": null,
   "id": "d8877567",
   "metadata": {},
   "outputs": [],
   "source": [
    "# Completo las marcas sin datos pero que aparecen en los titulos\n",
    "\n",
    "df_product2.loc[(df_product2.Marca==df_product2.Marca),'Marca'] = df_product2.Marca\n",
    "\n",
    "\n",
    "df_product2.loc[(df_product2.Marca!=df_product2.Marca)&(df_product2.title.apply(lambda x: x.lower()).str.contains('vols'))\n",
    "                |(df_product2.title.apply(lambda x: x.lower()).str.contains('vw'))\n",
    "                |(df_product2.title.apply(lambda x: x.lower()).str.contains('volk'))\n",
    "                |(df_product2.title.apply(lambda x: x.lower()).str.contains('vento')),'Marca'] = 'Volkswagen'\n",
    "\n",
    "df_product2.loc[(df_product2.Marca!=df_product2.Marca)&(df_product2.title.apply(lambda x: x.lower()).str.contains('suzu'))\n",
    "                |(df_product2.title.apply(lambda x: x.lower()).str.contains('susu')),'Marca'] = 'Suzuki'\n",
    "\n",
    "df_product2.loc[(df_product2.Marca!=df_product2.Marca)&\n",
    "                (df_product2.title.apply(lambda x: x.lower()).str.contains('citro')),'Marca'] = 'Citroën'\n",
    "\n",
    "df_product2.loc[(df_product2.Marca!=df_product2.Marca)\n",
    "                &(df_product2.title.apply(lambda x: x.lower()).str.contains('peug')),'Marca'] = 'Peugeot'\n",
    " "
   ]
  },
  {
   "cell_type": "code",
   "execution_count": null,
   "id": "97e02b36",
   "metadata": {},
   "outputs": [],
   "source": [
    "# Completo los modelos sin datos pero que aparecen en los titulos\n",
    "\n",
    "df_product2.loc[(df_product2.Modelo==df_product2.Modelo),'Modelo'] = df_product2.Modelo\n",
    "\n",
    "\n",
    "df_product2.loc[(df_product2.Modelo!=df_product2.Modelo)\n",
    "                &(df_product2.title.apply(lambda x: x.lower()).str.contains('vento')),'Modelo'] = 'Vento'\n",
    "\n",
    "df_product2.loc[(df_product2.Modelo!=df_product2.Modelo)\n",
    "&(df_product2.title.apply(lambda x: x.lower()).str.contains('pica')),'Modelo'] = 'Picasso'\n",
    "\n",
    "df_product2.loc[(df_product2.Modelo!=df_product2.Modelo)&(df_product2.title.apply(lambda x: x.lower()).str.contains('fun'))\n",
    "                |(df_product2.title.apply(lambda x: x.lower()).str.contains('fum')),'Modelo'] = 'Fun'"
   ]
  },
  {
   "cell_type": "code",
   "execution_count": null,
   "id": "515ecb06",
   "metadata": {},
   "outputs": [],
   "source": [
    "## Solo primer letra en cap resto min\n",
    "df_product2.Modelo = df_product2.Modelo.str.capitalize()\n",
    "df_product2.Marca = df_product2.Marca.str.capitalize()\n",
    "\n",
    "# Completar Campos vacios\n",
    "df_product2.Año = df_product2.Año.fillna('Sin Datos')\n",
    "\n",
    "df_product2['Transmisión'] = df_product2['Transmisión'].fillna('Sin Datos')\n",
    "\n",
    "df_product2.Versión = df_product2.Versión.fillna('Sin Datos')"
   ]
  },
  {
   "cell_type": "code",
   "execution_count": null,
   "id": "d7607971",
   "metadata": {},
   "outputs": [],
   "source": [
    "## cambio en el precio de la primer a ultima modificacion de la publicacion\n",
    "df_product2['cambio_precio'] = df_product2.price - df_product2.prev_price"
   ]
  },
  {
   "cell_type": "code",
   "execution_count": null,
   "id": "5dcd737d",
   "metadata": {},
   "outputs": [],
   "source": [
    "df_product2.loc[(df_product2.condition=='used'),'Condición'] = 'Usado'\n",
    "\n",
    "df_product2.loc[(df_product2.condition=='not_specified'),'Condición'] = 'Sin Especificar'\n",
    "\n",
    "df_product2.loc[(df_product2.condition=='new'),'Condición'] = 'Nuevo'\n",
    "\n",
    "df_product2.loc[(df_product2.condition!=df_product2.condition),'Condición'] = 'Sin Datos'"
   ]
  },
  {
   "cell_type": "code",
   "execution_count": null,
   "id": "6b2bd514",
   "metadata": {},
   "outputs": [],
   "source": [
    "df_product2.to_csv('raw_data.csv',index=False)"
   ]
  }
 ],
 "metadata": {
  "kernelspec": {
   "display_name": "Python 3 (ipykernel)",
   "language": "python",
   "name": "python3"
  },
  "language_info": {
   "codemirror_mode": {
    "name": "ipython",
    "version": 3
   },
   "file_extension": ".py",
   "mimetype": "text/x-python",
   "name": "python",
   "nbconvert_exporter": "python",
   "pygments_lexer": "ipython3",
   "version": "3.9.13"
  }
 },
 "nbformat": 4,
 "nbformat_minor": 5
}
